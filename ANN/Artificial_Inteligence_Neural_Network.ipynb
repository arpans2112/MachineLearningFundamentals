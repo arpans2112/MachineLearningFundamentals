{
 "cells": [
  {
   "cell_type": "code",
   "execution_count": 6,
   "metadata": {},
   "outputs": [],
   "source": [
    "import math\n",
    "import numpy as np"
   ]
  },
  {
   "cell_type": "code",
   "execution_count": 7,
   "metadata": {},
   "outputs": [
    {
     "name": "stdout",
     "output_type": "stream",
     "text": [
      "2.718281828459045\n"
     ]
    }
   ],
   "source": [
    "# defining e^x\n",
    "# print(math.exp(1))"
   ]
  },
  {
   "cell_type": "markdown",
   "metadata": {},
   "source": [
    "### Defining Activation Function"
   ]
  },
  {
   "cell_type": "code",
   "execution_count": 59,
   "metadata": {},
   "outputs": [],
   "source": [
    "def activiationFunction(x):\n",
    "    activationValues = list()\n",
    "    for i in x:\n",
    "        activationValues.append(1/(1+math.exp(-i)))\n",
    "    return activationValues"
   ]
  },
  {
   "cell_type": "code",
   "execution_count": 60,
   "metadata": {},
   "outputs": [
    {
     "data": {
      "text/plain": [
       "[0.5944759307482401, 0.5962826992967878]"
      ]
     },
     "execution_count": 60,
     "metadata": {},
     "output_type": "execute_result"
    }
   ],
   "source": [
    "# weights and input and adding bias and getting inputs for the next function\n",
    "x = np.array([[0.15,0.25],[0.2, 0.30]])\n",
    "i = np.array([0.05,0.1])\n",
    "matrix_multiply = np.matmul(x,i)\n",
    "matrix_multiply\n",
    "adding_bias = matrix_multiply + np.array([0.35, 0.35])\n",
    "layer2_i = activiationFunction(list(adding_bias))\n",
    "layer2_i"
   ]
  },
  {
   "cell_type": "code",
   "execution_count": 61,
   "metadata": {},
   "outputs": [
    {
     "data": {
      "text/plain": [
       "[0.7514046013526043]"
      ]
     },
     "execution_count": 61,
     "metadata": {},
     "output_type": "execute_result"
    }
   ],
   "source": [
    "layer2_input =  layer2_i[0]*0.40 + layer2_i[1]*0.45 + 0.6\n",
    "o = activiationFunction([layer2_input])\n",
    "o\n",
    "# output = activiationFunction(list(layer2_input))\n",
    "# output"
   ]
  },
  {
   "cell_type": "code",
   "execution_count": null,
   "metadata": {},
   "outputs": [],
   "source": []
  },
  {
   "cell_type": "code",
   "execution_count": null,
   "metadata": {},
   "outputs": [],
   "source": []
  }
 ],
 "metadata": {
  "kernelspec": {
   "display_name": "Python 3 (ipykernel)",
   "language": "python",
   "name": "python3"
  },
  "language_info": {
   "codemirror_mode": {
    "name": "ipython",
    "version": 3
   },
   "file_extension": ".py",
   "mimetype": "text/x-python",
   "name": "python",
   "nbconvert_exporter": "python",
   "pygments_lexer": "ipython3",
   "version": "3.9.12"
  }
 },
 "nbformat": 4,
 "nbformat_minor": 1
}