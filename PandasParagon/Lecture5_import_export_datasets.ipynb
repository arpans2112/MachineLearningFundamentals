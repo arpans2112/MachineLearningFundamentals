{
 "cells": [
  {
   "cell_type": "markdown",
   "id": "37ba7b16-6f1d-4d08-875e-927a9f8eccfd",
   "metadata": {},
   "source": [
    "# Import and Export Datasets"
   ]
  },
  {
   "cell_type": "markdown",
   "id": "85cce692-0263-42f8-ab90-209631b227c1",
   "metadata": {},
   "source": [
    "### List the functions used in import datasets"
   ]
  },
  {
   "cell_type": "markdown",
   "id": "1a24aa18-17bb-4176-a9bb-71f51b5b8d9c",
   "metadata": {},
   "source": [
    " <table align=\"left\"  style=\"text-align:left;\">\n",
    "  <tr>\n",
    "    <th>Data Format</th>\n",
    "    <th>File Format</th>\n",
    "    <th>Function Name</th>\n",
    "    <th>Description</th>\n",
    "    <th>Resource</th>\n",
    "   \n",
    "  </tr>\n",
    "  <tr>\n",
    "    <td>csv </td>\n",
    "      <td>.csv </td>\n",
    "    <td> pd.read_csv()</td>\n",
    "    <td> Read from the csv file</td>\n",
    "    <td> yet to be added </td>\n",
    "  </tr>\n",
    "  <tr>\n",
    "    <td>json</td>\n",
    "      <td>.json</td>\n",
    "    <td> pd.read_json()</td>\n",
    "    <td> Read from the json file</td>\n",
    "    <td> yet to be added </td>\n",
    "  </tr>\n",
    "   <tr>\n",
    "    <td>excel</td>\n",
    "       <td>.xlsx</td>\n",
    "    <td> pd.read_excel()</td>\n",
    "    <td> Read from the microsoft excel</td>\n",
    "    <td> yet to be added </td>\n",
    "  </tr>\n",
    "    <tr>\n",
    "    <td>sql query</td>\n",
    "        <td>select * from table_name;</td>\n",
    "    <td> pd.read_sql()</td>\n",
    "    <td> Read from  database table</td>\n",
    "    <td> yet to be added </td>\n",
    "  </tr>\n",
    "    <tr>\n",
    "    <td>html page</td>\n",
    "        <td>.html</td>\n",
    "    <td> pd.read_html()</td>\n",
    "    <td> Read from html page</td>\n",
    "    <td> yet to be added </td>\n",
    "  </tr>\n",
    "</table>\n",
    " "
   ]
  },
  {
   "cell_type": "markdown",
   "id": "16dba10e-49cd-4ba2-a1b0-b2dd78e24293",
   "metadata": {},
   "source": [
    "### List the functions used in export datasets"
   ]
  },
  {
   "cell_type": "markdown",
   "id": "e13ec2fa-a47d-43c9-ac75-c7a38cedb208",
   "metadata": {},
   "source": [
    " <table align=\"left\"  style=\"text-align:left;\">\n",
    "  <tr>\n",
    "    <th>Output Data Format</th>\n",
    "    <th>Output File Format</th>\n",
    "    <th>Function Name</th>\n",
    "    <th>Description</th>\n",
    "    <th>Resource</th>\n",
    "   \n",
    "  </tr>\n",
    "  <tr>\n",
    "    <td>csv </td>\n",
    "      <td>.csv </td>\n",
    "    <td> pd.to_csv()</td>\n",
    "    <td> Write data to csv file</td>\n",
    "    <td> yet to be added </td>\n",
    "  </tr>\n",
    "  <tr>\n",
    "    <td>json</td>\n",
    "      <td>.json</td>\n",
    "    <td> pd.to_json()</td>\n",
    "    <td> Write data to json file</td>\n",
    "    <td> yet to be added </td>\n",
    "  </tr>\n",
    "   <tr>\n",
    "    <td>excel</td>\n",
    "       <td>.xlsx</td>\n",
    "    <td> pd.to_excel()</td>\n",
    "    <td> Write data to microsoft excel</td>\n",
    "    <td> yet to be added </td>\n",
    "  </tr>\n",
    "    <tr>\n",
    "    <td>sql query</td>\n",
    "        <td>database table</td>\n",
    "    <td> pd.to_sql()</td>\n",
    "    <td> Write data to database table</td>\n",
    "    <td> yet to be added </td>\n",
    "  </tr>\n",
    "    <tr>\n",
    "    <td>html page</td>\n",
    "        <td>.html</td>\n",
    "    <td> pd.to_html()</td>\n",
    "    <td> Write data to html</td>\n",
    "    <td> yet to be added </td>\n",
    "  </tr>\n",
    "</table>\n",
    " "
   ]
  },
  {
   "cell_type": "code",
   "execution_count": null,
   "id": "f7e1062b-3607-4b1e-a3ec-a95cab8d8258",
   "metadata": {},
   "outputs": [],
   "source": []
  }
 ],
 "metadata": {
  "kernelspec": {
   "display_name": "Python 3 (ipykernel)",
   "language": "python",
   "name": "python3"
  },
  "language_info": {
   "codemirror_mode": {
    "name": "ipython",
    "version": 3
   },
   "file_extension": ".py",
   "mimetype": "text/x-python",
   "name": "python",
   "nbconvert_exporter": "python",
   "pygments_lexer": "ipython3",
   "version": "3.9.12"
  }
 },
 "nbformat": 4,
 "nbformat_minor": 5
}
