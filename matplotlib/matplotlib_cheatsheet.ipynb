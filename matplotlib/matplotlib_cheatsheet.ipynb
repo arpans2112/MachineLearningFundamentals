{
 "cells": [
  {
   "cell_type": "markdown",
   "id": "a82f1def-b30a-43b4-b184-34c522f4807e",
   "metadata": {},
   "source": [
    "### Import Packages"
   ]
  },
  {
   "cell_type": "code",
   "execution_count": 2,
   "id": "c0162035-0b5a-45df-ba43-2ca309c12aec",
   "metadata": {},
   "outputs": [],
   "source": [
    "import matplotlib as plt\n",
    "from matplotlib import pyplot"
   ]
  },
  {
   "cell_type": "markdown",
   "id": "51cb6def-e6c8-4d4a-968a-94edb574b88a",
   "metadata": {
    "tags": []
   },
   "source": [
    "### defining panda dataframe"
   ]
  },
  {
   "cell_type": "code",
   "execution_count": 19,
   "id": "006d1226-2620-4072-9637-241f409dc11b",
   "metadata": {},
   "outputs": [
    {
     "data": {
      "text/html": [
       "<div>\n",
       "<style scoped>\n",
       "    .dataframe tbody tr th:only-of-type {\n",
       "        vertical-align: middle;\n",
       "    }\n",
       "\n",
       "    .dataframe tbody tr th {\n",
       "        vertical-align: top;\n",
       "    }\n",
       "\n",
       "    .dataframe thead th {\n",
       "        text-align: right;\n",
       "    }\n",
       "</style>\n",
       "<table border=\"1\" class=\"dataframe\">\n",
       "  <thead>\n",
       "    <tr style=\"text-align: right;\">\n",
       "      <th></th>\n",
       "      <th>product</th>\n",
       "      <th>price</th>\n",
       "    </tr>\n",
       "  </thead>\n",
       "  <tbody>\n",
       "    <tr>\n",
       "      <th>0</th>\n",
       "      <td>Product A</td>\n",
       "      <td>2490</td>\n",
       "    </tr>\n",
       "    <tr>\n",
       "      <th>1</th>\n",
       "      <td>Product B</td>\n",
       "      <td>3598</td>\n",
       "    </tr>\n",
       "    <tr>\n",
       "      <th>2</th>\n",
       "      <td>Product C</td>\n",
       "      <td>2884</td>\n",
       "    </tr>\n",
       "    <tr>\n",
       "      <th>3</th>\n",
       "      <td>Product D</td>\n",
       "      <td>1736</td>\n",
       "    </tr>\n",
       "    <tr>\n",
       "      <th>4</th>\n",
       "      <td>Product E</td>\n",
       "      <td>4669</td>\n",
       "    </tr>\n",
       "  </tbody>\n",
       "</table>\n",
       "</div>"
      ],
      "text/plain": [
       "     product  price\n",
       "0  Product A   2490\n",
       "1  Product B   3598\n",
       "2  Product C   2884\n",
       "3  Product D   1736\n",
       "4  Product E   4669"
      ]
     },
     "execution_count": 19,
     "metadata": {},
     "output_type": "execute_result"
    }
   ],
   "source": [
    "import pandas as pd\n",
    "import numpy as np\n",
    "\n",
    "# Sample data\n",
    "data = {\n",
    "    'product': [\n",
    "        'Product A', 'Product B', 'Product C', 'Product D', 'Product E',\n",
    "        'Product F', 'Product G', 'Product H', 'Product I', 'Product J',\n",
    "        'Product K', 'Product L', 'Product M', 'Product N', 'Product O',\n",
    "        'Product P', 'Product Q', 'Product R', 'Product S', 'Product T'\n",
    "    ],\n",
    "    'price': np.random.randint(100, 5001, size=20)  # Generate 20 random prices between 100 and 5000\n",
    "}\n",
    "\n",
    "# Creating the DataFrame\n",
    "product_df = pd.DataFrame(data)\n",
    "\n",
    "# Displaying the DataFrame\n",
    "product_df.head()\n"
   ]
  },
  {
   "cell_type": "code",
   "execution_count": 20,
   "id": "8b03f4bb-516a-4816-a714-40ae9038d137",
   "metadata": {},
   "outputs": [],
   "source": [
    "bins = np.linspace(product_df['price'].min(axis=0),product_df['price'].max(axis=0),4 )\n",
    "price_category = ['low','medium','high']\n",
    "product_df['price_category'] = pd.cut(product_df['price'],bins,labels=price_category)"
   ]
  },
  {
   "cell_type": "code",
   "execution_count": 21,
   "id": "dda6e938-d92b-46cb-a59f-1fc91b276397",
   "metadata": {},
   "outputs": [
    {
     "data": {
      "text/html": [
       "<div>\n",
       "<style scoped>\n",
       "    .dataframe tbody tr th:only-of-type {\n",
       "        vertical-align: middle;\n",
       "    }\n",
       "\n",
       "    .dataframe tbody tr th {\n",
       "        vertical-align: top;\n",
       "    }\n",
       "\n",
       "    .dataframe thead th {\n",
       "        text-align: right;\n",
       "    }\n",
       "</style>\n",
       "<table border=\"1\" class=\"dataframe\">\n",
       "  <thead>\n",
       "    <tr style=\"text-align: right;\">\n",
       "      <th></th>\n",
       "      <th>product</th>\n",
       "      <th>price</th>\n",
       "      <th>price_category</th>\n",
       "    </tr>\n",
       "  </thead>\n",
       "  <tbody>\n",
       "    <tr>\n",
       "      <th>0</th>\n",
       "      <td>Product A</td>\n",
       "      <td>2490</td>\n",
       "      <td>medium</td>\n",
       "    </tr>\n",
       "    <tr>\n",
       "      <th>1</th>\n",
       "      <td>Product B</td>\n",
       "      <td>3598</td>\n",
       "      <td>high</td>\n",
       "    </tr>\n",
       "    <tr>\n",
       "      <th>2</th>\n",
       "      <td>Product C</td>\n",
       "      <td>2884</td>\n",
       "      <td>medium</td>\n",
       "    </tr>\n",
       "    <tr>\n",
       "      <th>3</th>\n",
       "      <td>Product D</td>\n",
       "      <td>1736</td>\n",
       "      <td>low</td>\n",
       "    </tr>\n",
       "    <tr>\n",
       "      <th>4</th>\n",
       "      <td>Product E</td>\n",
       "      <td>4669</td>\n",
       "      <td>high</td>\n",
       "    </tr>\n",
       "  </tbody>\n",
       "</table>\n",
       "</div>"
      ],
      "text/plain": [
       "     product  price price_category\n",
       "0  Product A   2490         medium\n",
       "1  Product B   3598           high\n",
       "2  Product C   2884         medium\n",
       "3  Product D   1736            low\n",
       "4  Product E   4669           high"
      ]
     },
     "execution_count": 21,
     "metadata": {},
     "output_type": "execute_result"
    }
   ],
   "source": [
    "# we have added a third category of price_category based on the bins\n",
    "product_df.head()"
   ]
  },
  {
   "cell_type": "markdown",
   "id": "5a415908-53bf-45bc-93f7-92c6c1fea58c",
   "metadata": {
    "jp-MarkdownHeadingCollapsed": true,
    "tags": []
   },
   "source": [
    "### Histogram"
   ]
  },
  {
   "cell_type": "code",
   "execution_count": 36,
   "id": "f2177d3a-5f50-4b7e-bc97-338fd934fefb",
   "metadata": {},
   "outputs": [
    {
     "data": {
      "text/plain": [
       "Text(0.5, 1.0, 'price bins')"
      ]
     },
     "execution_count": 36,
     "metadata": {},
     "output_type": "execute_result"
    },
    {
     "data": {
      "image/png": "[encoded data removed]",
      "text/plain": [
       "<Figure size 432x288 with 1 Axes>"
      ]
     },
     "metadata": {
      "needs_background": "light"
     },
     "output_type": "display_data"
    }
   ],
   "source": [
    "plt.pyplot.hist(product_df[\"price\"])\n",
    "\n",
    "# set x/y labels and plot title\n",
    "plt.pyplot.xlabel(\"price\")\n",
    "plt.pyplot.ylabel(\"count\")\n",
    "plt.pyplot.title(\"price bins\")"
   ]
  },
  {
   "cell_type": "markdown",
   "id": "dcb0fe47-21d1-469d-8df2-9789ba2042c4",
   "metadata": {
    "jp-MarkdownHeadingCollapsed": true,
    "tags": []
   },
   "source": [
    "#### hist grams with given number of bins\n",
    "\n",
    "* dividing 20 elements into given 6 category and checking count in each category\n",
    "* notice Histor gram and bar graph created based on the custom categories created by bins has the same distribution"
   ]
  },
  {
   "cell_type": "code",
   "execution_count": 56,
   "id": "7a1a54d4-f5c8-41ee-b2a8-3c66d2dc95fc",
   "metadata": {},
   "outputs": [
    {
     "data": {
      "text/plain": [
       "Text(0.5, 1.0, 'price bins')"
      ]
     },
     "execution_count": 56,
     "metadata": {},
     "output_type": "execute_result"
    },
    {
     "data": {
      "image/png": "[encoded data removed]",
      "text/plain": [
       "<Figure size 432x288 with 1 Axes>"
      ]
     },
     "metadata": {
      "needs_background": "light"
     },
     "output_type": "display_data"
    }
   ],
   "source": [
    "plt.pyplot.hist(product_df[\"price\"], bins = 3)\n",
    "\n",
    "# set x/y labels and plot title\n",
    "plt.pyplot.xlabel(\"price\")\n",
    "plt.pyplot.ylabel(\"count\")\n",
    "plt.pyplot.title(\"price bins\")\n"
   ]
  },
  {
   "cell_type": "markdown",
   "id": "6cf599a3-626a-4834-9d94-dd0105db43c2",
   "metadata": {
    "jp-MarkdownHeadingCollapsed": true,
    "tags": []
   },
   "source": [
    "### Bar graph\n",
    "\n",
    "- no of elements in group_names should be equal to variable categories which we are ploting"
   ]
  },
  {
   "cell_type": "code",
   "execution_count": 57,
   "id": "ef19a5a9-7ab9-4434-bdce-837e168f5b76",
   "metadata": {},
   "outputs": [
    {
     "name": "stdout",
     "output_type": "stream",
     "text": [
      "Bin Sizes\n",
      "[ 872.         2137.66666667 3403.33333333 4669.        ]\n",
      "high      10\n",
      "low        5\n",
      "medium     4\n",
      "Name: price_category, dtype: int64\n",
      "medium     4\n",
      "low        5\n",
      "high      10\n",
      "Name: price_category, dtype: int64\n"
     ]
    },
    {
     "data": {
      "text/plain": [
       "Text(0.5, 1.0, 'Price bins')"
      ]
     },
     "execution_count": 57,
     "metadata": {},
     "output_type": "execute_result"
    },
    {
     "data": {
      "image/png": "[encoded data removed]",
      "text/plain": [
       "<Figure size 432x288 with 1 Axes>"
      ]
     },
     "metadata": {
      "needs_background": "light"
     },
     "output_type": "display_data"
    }
   ],
   "source": [
    "print('Bin Sizes')\n",
    "print(bins)\n",
    "print(product_df[\"price_category\"].value_counts())\n",
    "print(product_df[\"price_category\"].value_counts().sort_values(axis=0))\n",
    "group_names = product_df[\"price_category\"].value_counts().sort_values(axis=0).index\n",
    "pyplot.bar(group_names, product_df[\"price_category\"].value_counts().sort_values(axis=0))\n",
    "\n",
    "# set x/y labels and plot title\n",
    "plt.pyplot.xlabel(\"Price Category\")\n",
    "plt.pyplot.ylabel(\"count\")\n",
    "plt.pyplot.title(\"Price bins\")"
   ]
  },
  {
   "cell_type": "markdown",
   "id": "7bb8b4a7-c6df-44e4-a938-4d9a43e9d2ec",
   "metadata": {
    "jp-MarkdownHeadingCollapsed": true,
    "tags": []
   },
   "source": [
    "#### we may assign incorrect category if you don't know the position of the value count as shown below"
   ]
  },
  {
   "cell_type": "code",
   "execution_count": 58,
   "id": "2639b407-98e8-4851-b8f1-87969189ad2e",
   "metadata": {},
   "outputs": [
    {
     "name": "stdout",
     "output_type": "stream",
     "text": [
      "Bin Sizes\n",
      "[ 872.         2137.66666667 3403.33333333 4669.        ]\n",
      "high      10\n",
      "low        5\n",
      "medium     4\n",
      "Name: price_category, dtype: int64\n"
     ]
    },
    {
     "data": {
      "text/plain": [
       "Text(0.5, 1.0, 'Price bins')"
      ]
     },
     "execution_count": 58,
     "metadata": {},
     "output_type": "execute_result"
    },
    {
     "data": {
      "image/png": "[encoded data removed]",
      "text/plain": [
       "<Figure size 432x288 with 1 Axes>"
      ]
     },
     "metadata": {
      "needs_background": "light"
     },
     "output_type": "display_data"
    }
   ],
   "source": [
    "print('Bin Sizes')\n",
    "print(bins)\n",
    "print(product_df[\"price_category\"].value_counts())\n",
    "group_names = ['very cheap','cheap','costly']\n",
    "pyplot.bar(group_names, product_df[\"price_category\"].value_counts().sort_values(axis=0))\n",
    "\n",
    "# set x/y labels and plot title\n",
    "plt.pyplot.xlabel(\"Price Category\")\n",
    "plt.pyplot.ylabel(\"count\")\n",
    "plt.pyplot.title(\"Price bins\")"
   ]
  },
  {
   "cell_type": "code",
   "execution_count": null,
   "id": "76345467-1304-41ed-bbae-89dd977e5bc6",
   "metadata": {},
   "outputs": [],
   "source": []
  },
  {
   "cell_type": "code",
   "execution_count": null,
   "id": "84cd34b8-eecd-4f1e-851f-d026d16ea39f",
   "metadata": {},
   "outputs": [],
   "source": []
  },
  {
   "cell_type": "code",
   "execution_count": null,
   "id": "d00b85d6-7873-4ba5-a002-f742a74d6bec",
   "metadata": {},
   "outputs": [],
   "source": []
  }
 ],
 "metadata": {
  "kernelspec": {
   "display_name": "Python 3 (ipykernel)",
   "language": "python",
   "name": "python3"
  },
  "language_info": {
   "codemirror_mode": {
    "name": "ipython",
    "version": 3
   },
   "file_extension": ".py",
   "mimetype": "text/x-python",
   "name": "python",
   "nbconvert_exporter": "python",
   "pygments_lexer": "ipython3",
   "version": "3.9.12"
  }
 },
 "nbformat": 4,
 "nbformat_minor": 5
}
