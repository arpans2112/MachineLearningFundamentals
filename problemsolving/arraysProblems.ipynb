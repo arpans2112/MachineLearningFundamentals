{
 "cells": [
  {
   "cell_type": "code",
   "execution_count": 8,
   "metadata": {
    "pycharm": {
     "is_executing": true
    }
   },
   "outputs": [
    {
     "name": "stdout",
     "output_type": "stream",
     "text": [
      "[5, 6, 7, 1, 2, 3, 4]\n"
     ]
    }
   ],
   "source": [
    "a = [1,2,3,4,5,6,7]\n",
    "\n",
    "k = 3\n",
    "\n",
    "output = [5,6,7,1,2,3,4]\n",
    "\n",
    "i = 0 \n",
    "while (i < len(a)):\n",
    "    \n",
    "    if i == 0:\n",
    "        value = a[k]\n",
    "    else:\n",
    "        value = backup\n",
    "    \n",
    "    new_k = k + 3\n",
    "    if new_k >= len(a):\n",
    "        new_k = new_k - len(a)\n",
    "    backup = a[new_k]\n",
    "    a[new_k] = value\n",
    "    k = new_k\n",
    "    i+=1;\n",
    "        \n",
    "print(a)  \n",
    "\n",
    "\n",
    "\n",
    "\n",
    "\n",
    "    "
   ]
  },
  {
   "cell_type": "code",
   "execution_count": 52,
   "metadata": {},
   "outputs": [
    {
     "name": "stdout",
     "output_type": "stream",
     "text": [
      "before 6\n",
      "after 6\n",
      "before 9\n",
      "after 1\n",
      "before 4\n",
      "after 4\n",
      "before 7\n",
      "after -1\n",
      "before 2\n",
      "after 2\n",
      "before 5\n",
      "after 5\n",
      "[1, 7, 4, 4, 2, 3, 5]\n"
     ]
    }
   ],
   "source": [
    "def rotateByK(a, rotateBy):\n",
    "    i = 0 \n",
    "    k = rotateBy\n",
    "    while (i < len(a)):\n",
    "\n",
    "        if i == 0:\n",
    "            value = a[rotateBy]\n",
    "        else:\n",
    "            value = backup\n",
    "        new_k = k + rotateBy\n",
    "        print('before',new_k)\n",
    "        if new_k >= len(a):\n",
    "            new_k = new_k - len(a)-\n",
    "        print('after',new_k)\n",
    "        backup = a[new_k]\n",
    "        a[new_k] = value\n",
    "        k = new_k\n",
    "        i+=1;\n",
    "    return a\n",
    "\n",
    "print(rotateByK([1,2,3,4,5,6,7], 3))  \n"
   ]
  },
  {
   "cell_type": "code",
   "execution_count": 51,
   "metadata": {},
   "outputs": [
    {
     "name": "stdout",
     "output_type": "stream",
     "text": [
      "before 4\n",
      "after 0\n",
      "before 2\n",
      "after 2\n",
      "before 4\n",
      "after 0\n",
      "before 2\n",
      "after 2\n",
      "[3, -100, 3, 99]\n"
     ]
    }
   ],
   "source": [
    "print(rotateByK([-1,-100,3,99], 2))  "
   ]
  },
  {
   "cell_type": "code",
   "execution_count": null,
   "metadata": {},
   "outputs": [],
   "source": []
  }
 ],
 "metadata": {
  "kernelspec": {
   "display_name": "Python 3 (ipykernel)",
   "language": "python",
   "name": "python3"
  },
  "language_info": {
   "codemirror_mode": {
    "name": "ipython",
    "version": 3
   },
   "file_extension": ".py",
   "mimetype": "text/x-python",
   "name": "python",
   "nbconvert_exporter": "python",
   "pygments_lexer": "ipython3",
   "version": "3.9.12"
  }
 },
 "nbformat": 4,
 "nbformat_minor": 1
}