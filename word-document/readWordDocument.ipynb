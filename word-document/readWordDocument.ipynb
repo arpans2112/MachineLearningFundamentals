{
 "cells": [
  {
   "cell_type": "code",
   "execution_count": 14,
   "metadata": {
    "tags": []
   },
   "outputs": [
    {
     "name": "stdout",
     "output_type": "stream",
     "text": [
      "['document1.docx']\n",
      "                     file_name word_match\n",
      "document1.docx  document1.docx     laptop\n"
     ]
    }
   ],
   "source": [
    "import os\n",
    "from docx import Document\n",
    "import pandas as pd\n",
    "\n",
    "match_word = \"laptop\"\n",
    "match_items = []\n",
    "# folder = 'pandasTutorial'\n",
    "file_names = os.listdir()\n",
    "file_names = [file for file in file_names if file.endswith('.docx')]\n",
    "# file_names = [os.path.join(folder, file) for file in file_names]\n",
    "print(file_names)\n",
    "\n",
    "for file in file_names:\n",
    "    document = Document(file)\n",
    "    for paragraph in document.paragraphs:\n",
    "        if match_word in paragraph.text:\n",
    "            match_items.append([file, match_word])\n",
    "\n",
    "the_df = pd.DataFrame(\n",
    "    match_items,\n",
    "    columns=['file_name', 'word_match'],\n",
    "    index=[i[0] for i in match_items]\n",
    ")\n",
    "\n",
    "print(the_df)"
   ]
  },
  {
   "cell_type": "code",
   "execution_count": null,
   "metadata": {},
   "outputs": [],
   "source": []
  },
  {
   "cell_type": "code",
   "execution_count": 3,
   "metadata": {},
   "outputs": [
    {
     "name": "stdout",
     "output_type": "stream",
     "text": [
      "Collecting python-docx\n",
      "  Downloading python-docx-0.8.11.tar.gz (5.6 MB)\n",
      "\u001B[K     |████████████████████████████████| 5.6 MB 4.3 MB/s eta 0:00:01\n",
      "\u001B[?25hRequirement already satisfied: lxml>=2.3.2 in /Users/arpansaini/opt/anaconda3/lib/python3.9/site-packages (from python-docx) (4.8.0)\n",
      "Building wheels for collected packages: python-docx\n",
      "  Building wheel for python-docx (setup.py) ... \u001B[?25ldone\n",
      "\u001B[?25h  Created wheel for python-docx: filename=python_docx-0.8.11-py3-none-any.whl size=184507 sha256=25e869390cb06401ebf9b3e9cd28c6238bce1567edb53b9af31df399b510d3c0\n",
      "  Stored in directory: /Users/arpansaini/Library/Caches/pip/wheels/83/8b/7c/09ae60c42c7ba4ed2dddaf2b8b9186cb105255856d6ed3dba5\n",
      "Successfully built python-docx\n",
      "Installing collected packages: python-docx\n",
      "Successfully installed python-docx-0.8.11\n",
      "Note: you may need to restart the kernel to use updated packages.\n"
     ]
    }
   ],
   "source": [
    "pip install python-docx"
   ]
  },
  {
   "cell_type": "code",
   "execution_count": null,
   "metadata": {},
   "outputs": [],
   "source": []
  }
 ],
 "metadata": {
  "kernelspec": {
   "display_name": "Python 3 (ipykernel)",
   "language": "python",
   "name": "python3"
  },
  "language_info": {
   "codemirror_mode": {
    "name": "ipython",
    "version": 3
   },
   "file_extension": ".py",
   "mimetype": "text/x-python",
   "name": "python",
   "nbconvert_exporter": "python",
   "pygments_lexer": "ipython3",
   "version": "3.9.12"
  }
 },
 "nbformat": 4,
 "nbformat_minor": 4
}